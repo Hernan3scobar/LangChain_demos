{
 "cells": [
  {
   "cell_type": "code",
   "execution_count": null,
   "id": "db7a3fd4",
   "metadata": {},
   "outputs": [],
   "source": [
    "\n",
    "#%%\n",
    "from langchain_ollama.llms import OllamaLLM\n",
    "from langchain_core.prompts import PromptTemplate\n",
    "\n"
   ]
  },
  {
   "cell_type": "code",
   "execution_count": null,
   "id": "89d967d1",
   "metadata": {},
   "outputs": [
    {
     "name": "stdout",
     "output_type": "stream",
     "text": [
      "Based on the provided information, I will create a short biography and two interesting facts about Albert Einstein:\n",
      "\n",
      "**Short Biography:**\n",
      "\n",
      "Albert Einstein was a renowned German-born theoretical physicist who is best known for developing the theory of relativity. Born on March 14, 1879, in Ulm, Germany, Einstein grew up in a family of secular Ashkenazi Jews. He showed exceptional curiosity and aptitude for mathematics and physics from an early age. After completing his education, he worked as a patent clerk in Bern, Switzerland, before moving to Berlin to join the Prussian Academy of Sciences. His groundbreaking work on relativity led to numerous accolades, including the 1921 Nobel Prize in Physics. Einstein's theories revolutionized our understanding of space and time, and his legacy continues to inspire scientists and thinkers around the world.\n",
      "\n",
      "**Two Interesting Facts:**\n",
      "\n",
      "1. **Einstein's \"Miracle Year\":** In 1905, Einstein published four groundbreaking papers that transformed the field of physics. This period, known as his \"miracle year,\" saw him introduce the special theory of relativity, explain Brownian motion, and demonstrate the equivalence of mass and energy. These papers had a profound impact on our understanding of the universe and cemented Einstein's reputation as one of the greatest physicists of all time.\n",
      "2. **Einstein's Warning to President Roosevelt:** In 1939, while visiting the United States, Einstein wrote a letter to President Franklin D. Roosevelt warning him about the potential German nuclear weapons program. This letter, known as the \"Einstein-Roosevelt letter,\" alerted the US government to the possibility of Germany developing an atomic bomb and recommended that the US begin research into nuclear energy. This warning played a significant role in the development of the Manhattan Project, which ultimately led to the creation of the atomic bomb during World War II.\n"
     ]
    }
   ],
   "source": [
    "\n",
    "\n",
    "\n",
    "def main():\n",
    "    information_source = \"\"\" \n",
    "    Albert Einstein[a] (14 March 1879 – 18 April 1955) was a German-born theoretical physicist who is best known for developing the theory of relativity. Einstein also made important contributions to quantum theory.[1][5] His mass–energy equivalence formula E = mc2, which arises from special relativity, has been called \"the world's most famous equation\".[6] He received the 1921 Nobel Prize in Physics for his services to theoretical physics, and especially for his discovery of the law of the photoelectric effect.[7]\n",
    "\n",
    "Born in the German Empire, Einstein moved to Switzerland in 1895, forsaking his German citizenship (as a subject of the Kingdom of Württemberg)[note 1] the following year. In 1897, at the age of seventeen, he enrolled in the mathematics and physics teaching diploma program at the Swiss federal polytechnic school in Zurich, graduating in 1900. He acquired Swiss citizenship a year later, which he kept for the rest of his life, and afterwards secured a permanent position at the Swiss Patent Office in Bern. In 1905, he submitted a successful PhD dissertation to the University of Zurich. In 1914, he moved to Berlin to join the Prussian Academy of Sciences and the Humboldt University of Berlin, becoming director of the Kaiser Wilhelm Institute for Physics in 1917; he also became a German citizen again, this time as a subject of the Kingdom of Prussia.[note 1] In 1933, while Einstein was visiting the United States, Adolf Hitler came to power in Germany. Horrified by the Nazi persecution of his fellow Jews,[8] he decided to remain in the US, and was granted American citizenship in 1940.[9] On the eve of World War II, he endorsed a letter to President Franklin D. Roosevelt alerting him to the potential German nuclear weapons program and recommending that the US begin similar research.\n",
    "\n",
    "In 1905, sometimes described as his annus mirabilis (miracle year), he published four groundbreaking papers.[10] In them, he outlined a theory of the photoelectric effect, explained Brownian motion, introduced his special theory of relativity, and demonstrated that if the special theory is correct, mass and energy are equivalent to each other. In 1915, he proposed a general theory of relativity that extended his system of mechanics to incorporate gravitation. A cosmological paper that he published the following year laid out the implications of general relativity for the modeling of the structure and evolution of the universe as a whole.[11][12] In 1917, Einstein wrote a paper which introduced the concepts of spontaneous emission and stimulated emission, the latter of which is the core mechanism behind the laser and maser, and which contained a trove of information that would be beneficial to developments in physics later on, such as quantum electrodynamics and quantum optics.[13]\n",
    "\n",
    "In the middle part of his career, Einstein made important contributions to statistical mechanics and quantum theory. Especially notable was his work on the quantum physics of radiation, in which light consists of particles, subsequently called photons. With physicist Satyendra Nath Bose, he laid the groundwork for Bose–Einstein statistics. For much of the last phase of his academic life, Einstein worked on two endeavors that ultimately proved unsuccessful. First, he advocated against quantum theory's introduction of fundamental randomness into science's picture of the world, objecting that God does not play dice.[14] Second, he attempted to devise a unified field theory by generalizing his geometric theory of gravitation to include electromagnetism. As a result, he became increasingly isolated from mainstream modern physics.\n",
    "\n",
    "Life and career\n",
    "Childhood, youth and education\n",
    "See also: Einstein family\n",
    "A young boy with short hair and a round face, wearing a white collar and large bow, with vest, coat, skirt, and high boots. He is leaning against an ornate chair.\n",
    "Einstein in 1882, age 3\n",
    "Albert Einstein was born in Ulm,[15] in the Kingdom of Württemberg in the German Empire, on 14 March 1879. His parents, secular Ashkenazi Jews, were Hermann Einstein, a salesman and engineer, and Pauline Koch. In 1880, the family moved to Munich's borough of Ludwigsvorstadt-Isarvorstadt, where Einstein's father and his uncle Jakob founded Elektrotechnische Fabrik J. Einstein & Cie, a company that manufactured electrical equipment based on direct current.[15] He often related a formative event from his youth, when he was sick in bed and his father brought him a compass. This sparked his lifelong fascination with electromagnetism. He realized that \"Something deeply hidden had to be behind things.\"[16]\n",
    "\n",
    "Albert attended St. Peter's Catholic elementary school in Munich from the age of five. When he was eight, he was transferred to the Luitpold Gymnasium, where he received advanced primary and then secondary school education.[17]\n",
    "\n",
    " after his death.[335]\n",
    "    \n",
    "    \"\"\"\n",
    "    template = \"\"\"\n",
    "    given the information from the {information_source}, about a person, I want \n",
    "    you to create:\n",
    "    1) a short biography of that person.\n",
    "    2) two of the most interesting fact about that person.\n",
    "        \n",
    "    \"\"\"\n",
    "       \n",
    "    \n",
    "    prompt = PromptTemplate(\n",
    "        input_variables=[\"information_source\"],\n",
    "        template=template,\n",
    "        template_format=\"f-string\"        \n",
    "    )\n",
    "    \n",
    "\n",
    "    llm = OllamaLLM(temperature=0.1,model=\"llama3.2:3b\",num_gpu=999,num_ctx=3072)\n",
    "\n",
    "    chain = prompt | llm\n",
    "\n",
    "    response = chain.invoke(input={\"information_source\": information_source})\n",
    "    print(response)\n",
    "\n",
    "if __name__ == \"__main__\":\n",
    "    main()\n",
    "\n",
    "\n"
   ]
  }
 ],
 "metadata": {
  "kernelspec": {
   "display_name": "langchain-course",
   "language": "python",
   "name": "python3"
  },
  "language_info": {
   "codemirror_mode": {
    "name": "ipython",
    "version": 3
   },
   "file_extension": ".py",
   "mimetype": "text/x-python",
   "name": "python",
   "nbconvert_exporter": "python",
   "pygments_lexer": "ipython3",
   "version": "3.12.3"
  }
 },
 "nbformat": 4,
 "nbformat_minor": 5
}
